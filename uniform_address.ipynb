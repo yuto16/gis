{
  "nbformat": 4,
  "nbformat_minor": 0,
  "metadata": {
    "colab": {
      "name": "uniform_address.ipynb",
      "version": "0.3.2",
      "provenance": [],
      "collapsed_sections": []
    },
    "kernelspec": {
      "name": "python3",
      "display_name": "Python 3"
    }
  },
  "cells": [
    {
      "cell_type": "code",
      "metadata": {
        "id": "OBLEhcB3aBdy",
        "colab_type": "code",
        "colab": {}
      },
      "source": [
        "import numpy as np\n",
        "import pandas as pd\n",
        "import math\n",
        "import re"
      ],
      "execution_count": 0,
      "outputs": []
    },
    {
      "cell_type": "code",
      "metadata": {
        "id": "N-AD6JXHcS-i",
        "colab_type": "code",
        "colab": {}
      },
      "source": [
        "#http://jusyo.jp/csv/new.phpからデータをダウンロード\n",
        "\n",
        "!wget http://jusyo.jp/downloads/new/csv/csv_zenkoku.zip\n",
        "!unzip csv_zenkoku.zip"
      ],
      "execution_count": 0,
      "outputs": []
    },
    {
      "cell_type": "code",
      "metadata": {
        "id": "GR-zPa6BaW8b",
        "colab_type": "code",
        "colab": {}
      },
      "source": [
        "filename = \"zenkoku.csv\"\n",
        "data = pd.read_csv(filename, encoding=\"cp932\")"
      ],
      "execution_count": 0,
      "outputs": []
    },
    {
      "cell_type": "code",
      "metadata": {
        "id": "Tho0W_GSaW_A",
        "colab_type": "code",
        "colab": {}
      },
      "source": [
        "key_data = data[[\"都道府県\",\"市区町村\",\"町域\",\"町域補足\",\"京都通り名\",\"字丁目\"]]"
      ],
      "execution_count": 0,
      "outputs": []
    },
    {
      "cell_type": "code",
      "metadata": {
        "id": "_gUwjAv5aXBo",
        "colab_type": "code",
        "outputId": "1a3e8656-98f7-4d3f-e049-276596d50f1f",
        "colab": {
          "base_uri": "https://localhost:8080/",
          "height": 204
        }
      },
      "source": [
        "key_data.head()"
      ],
      "execution_count": 7,
      "outputs": [
        {
          "output_type": "execute_result",
          "data": {
            "text/html": [
              "<div>\n",
              "<style scoped>\n",
              "    .dataframe tbody tr th:only-of-type {\n",
              "        vertical-align: middle;\n",
              "    }\n",
              "\n",
              "    .dataframe tbody tr th {\n",
              "        vertical-align: top;\n",
              "    }\n",
              "\n",
              "    .dataframe thead th {\n",
              "        text-align: right;\n",
              "    }\n",
              "</style>\n",
              "<table border=\"1\" class=\"dataframe\">\n",
              "  <thead>\n",
              "    <tr style=\"text-align: right;\">\n",
              "      <th></th>\n",
              "      <th>都道府県</th>\n",
              "      <th>市区町村</th>\n",
              "      <th>町域</th>\n",
              "      <th>町域補足</th>\n",
              "      <th>京都通り名</th>\n",
              "      <th>字丁目</th>\n",
              "    </tr>\n",
              "  </thead>\n",
              "  <tbody>\n",
              "    <tr>\n",
              "      <th>0</th>\n",
              "      <td>北海道</td>\n",
              "      <td>札幌市中央区</td>\n",
              "      <td>NaN</td>\n",
              "      <td>（該当なし）</td>\n",
              "      <td>NaN</td>\n",
              "      <td>NaN</td>\n",
              "    </tr>\n",
              "    <tr>\n",
              "      <th>1</th>\n",
              "      <td>北海道</td>\n",
              "      <td>札幌市中央区</td>\n",
              "      <td>NaN</td>\n",
              "      <td>（該当なし）</td>\n",
              "      <td>NaN</td>\n",
              "      <td>NaN</td>\n",
              "    </tr>\n",
              "    <tr>\n",
              "      <th>2</th>\n",
              "      <td>北海道</td>\n",
              "      <td>札幌市中央区</td>\n",
              "      <td>NaN</td>\n",
              "      <td>（該当なし）</td>\n",
              "      <td>NaN</td>\n",
              "      <td>NaN</td>\n",
              "    </tr>\n",
              "    <tr>\n",
              "      <th>3</th>\n",
              "      <td>北海道</td>\n",
              "      <td>札幌市中央区</td>\n",
              "      <td>NaN</td>\n",
              "      <td>（該当なし）</td>\n",
              "      <td>NaN</td>\n",
              "      <td>NaN</td>\n",
              "    </tr>\n",
              "    <tr>\n",
              "      <th>4</th>\n",
              "      <td>北海道</td>\n",
              "      <td>札幌市中央区</td>\n",
              "      <td>NaN</td>\n",
              "      <td>（該当なし）</td>\n",
              "      <td>NaN</td>\n",
              "      <td>NaN</td>\n",
              "    </tr>\n",
              "  </tbody>\n",
              "</table>\n",
              "</div>"
            ],
            "text/plain": [
              "  都道府県    市区町村   町域    町域補足 京都通り名  字丁目\n",
              "0  北海道  札幌市中央区  NaN  （該当なし）   NaN  NaN\n",
              "1  北海道  札幌市中央区  NaN  （該当なし）   NaN  NaN\n",
              "2  北海道  札幌市中央区  NaN  （該当なし）   NaN  NaN\n",
              "3  北海道  札幌市中央区  NaN  （該当なし）   NaN  NaN\n",
              "4  北海道  札幌市中央区  NaN  （該当なし）   NaN  NaN"
            ]
          },
          "metadata": {
            "tags": []
          },
          "execution_count": 7
        }
      ]
    },
    {
      "cell_type": "code",
      "metadata": {
        "id": "x0-ODxUjcaTd",
        "colab_type": "code",
        "outputId": "24abf3cb-04fb-41c2-ca30-782730b01c78",
        "colab": {
          "base_uri": "https://localhost:8080/",
          "height": 173
        }
      },
      "source": [
        "key_data.describe()"
      ],
      "execution_count": 8,
      "outputs": [
        {
          "output_type": "execute_result",
          "data": {
            "text/html": [
              "<div>\n",
              "<style scoped>\n",
              "    .dataframe tbody tr th:only-of-type {\n",
              "        vertical-align: middle;\n",
              "    }\n",
              "\n",
              "    .dataframe tbody tr th {\n",
              "        vertical-align: top;\n",
              "    }\n",
              "\n",
              "    .dataframe thead th {\n",
              "        text-align: right;\n",
              "    }\n",
              "</style>\n",
              "<table border=\"1\" class=\"dataframe\">\n",
              "  <thead>\n",
              "    <tr style=\"text-align: right;\">\n",
              "      <th></th>\n",
              "      <th>都道府県</th>\n",
              "      <th>市区町村</th>\n",
              "      <th>町域</th>\n",
              "      <th>町域補足</th>\n",
              "      <th>京都通り名</th>\n",
              "      <th>字丁目</th>\n",
              "    </tr>\n",
              "  </thead>\n",
              "  <tbody>\n",
              "    <tr>\n",
              "      <th>count</th>\n",
              "      <td>149415</td>\n",
              "      <td>149415</td>\n",
              "      <td>147213</td>\n",
              "      <td>2251</td>\n",
              "      <td>1135</td>\n",
              "      <td>6895</td>\n",
              "    </tr>\n",
              "    <tr>\n",
              "      <th>unique</th>\n",
              "      <td>47</td>\n",
              "      <td>1934</td>\n",
              "      <td>81062</td>\n",
              "      <td>7</td>\n",
              "      <td>1019</td>\n",
              "      <td>5058</td>\n",
              "    </tr>\n",
              "    <tr>\n",
              "      <th>top</th>\n",
              "      <td>北海道</td>\n",
              "      <td>港区</td>\n",
              "      <td>西新宿</td>\n",
              "      <td>（該当なし）</td>\n",
              "      <td>上の下立売通御前西入上る</td>\n",
              "      <td>２丁目</td>\n",
              "    </tr>\n",
              "    <tr>\n",
              "      <th>freq</th>\n",
              "      <td>10295</td>\n",
              "      <td>1394</td>\n",
              "      <td>631</td>\n",
              "      <td>2122</td>\n",
              "      <td>3</td>\n",
              "      <td>104</td>\n",
              "    </tr>\n",
              "  </tbody>\n",
              "</table>\n",
              "</div>"
            ],
            "text/plain": [
              "          都道府県    市区町村      町域    町域補足         京都通り名   字丁目\n",
              "count   149415  149415  147213    2251          1135  6895\n",
              "unique      47    1934   81062       7          1019  5058\n",
              "top        北海道      港区     西新宿  （該当なし）  上の下立売通御前西入上る   ２丁目\n",
              "freq     10295    1394     631    2122             3   104"
            ]
          },
          "metadata": {
            "tags": []
          },
          "execution_count": 8
        }
      ]
    },
    {
      "cell_type": "code",
      "metadata": {
        "id": "Si6W2JZj26Z4",
        "colab_type": "code",
        "colab": {}
      },
      "source": [
        "address_list=[]\n",
        "\n",
        "for r in range(key_data.shape[0]):\n",
        "    d = key_data.iloc[r,:]\n",
        "\n",
        "    for i in range(len(d)):\n",
        "        if d[i]!=d[i] or d[i]=='（該当なし）':\n",
        "            d[i]=\"\"\n",
        "    full=\"\".join(d)\n",
        "    address_list.append(full)"
      ],
      "execution_count": 0,
      "outputs": []
    },
    {
      "cell_type": "code",
      "metadata": {
        "id": "YkktqPMadP7O",
        "colab_type": "code",
        "colab": {}
      },
      "source": [
        "unique_address_list = sorted(set(address_list), key=address_list.index)"
      ],
      "execution_count": 0,
      "outputs": []
    },
    {
      "cell_type": "code",
      "metadata": {
        "id": "SyUNZmHhdj1N",
        "colab_type": "code",
        "colab": {
          "base_uri": "https://localhost:8080/",
          "height": 34
        },
        "outputId": "ebef0e53-79d1-470f-d321-1da62e5358e8"
      },
      "source": [
        "print(len(unique_address_list))"
      ],
      "execution_count": 11,
      "outputs": [
        {
          "output_type": "stream",
          "text": [
            "126774\n"
          ],
          "name": "stdout"
        }
      ]
    },
    {
      "cell_type": "code",
      "metadata": {
        "id": "Ov4E-Nl_EmrP",
        "colab_type": "code",
        "outputId": "b9858d96-c29e-4fb7-c70a-533629c06e2d",
        "colab": {
          "base_uri": "https://localhost:8080/",
          "height": 187
        }
      },
      "source": [
        "unique_address_list[:10]"
      ],
      "execution_count": 12,
      "outputs": [
        {
          "output_type": "execute_result",
          "data": {
            "text/plain": [
              "['北海道札幌市中央区',\n",
              " '北海道札幌市中央区旭ケ丘',\n",
              " '北海道札幌市中央区大通西１丁目',\n",
              " '北海道札幌市中央区大通西２丁目',\n",
              " '北海道札幌市中央区大通西３丁目',\n",
              " '北海道札幌市中央区大通西４丁目',\n",
              " '北海道札幌市中央区大通西５丁目',\n",
              " '北海道札幌市中央区大通西６丁目',\n",
              " '北海道札幌市中央区大通西７丁目',\n",
              " '北海道札幌市中央区大通西８丁目']"
            ]
          },
          "metadata": {
            "tags": []
          },
          "execution_count": 12
        }
      ]
    },
    {
      "cell_type": "code",
      "metadata": {
        "id": "ySi5h0ENjXwY",
        "colab_type": "code",
        "colab": {}
      },
      "source": [
        "#住所ファイルの保存\n",
        "import pickle\n",
        "with open('unique_address_list.pickle', 'wb') as f:\n",
        "    pickle.dump(unique_address_list, f)"
      ],
      "execution_count": 0,
      "outputs": []
    },
    {
      "cell_type": "code",
      "metadata": {
        "id": "FTiQjwEqjXzD",
        "colab_type": "code",
        "colab": {}
      },
      "source": [
        "#住所ファイルの読み込み\n",
        "import pickle\n",
        "with open('unique_address_list.pickle', 'rb') as f:\n",
        "    unique_address_list = pickle.load(f)"
      ],
      "execution_count": 0,
      "outputs": []
    },
    {
      "cell_type": "code",
      "metadata": {
        "id": "SR9yMpJoI90k",
        "colab_type": "code",
        "colab": {}
      },
      "source": [
        "def address_check(text):\n",
        "    search_key = \"^.*\" + \".*\".join(text)\n",
        "    sikutchoson = re.findall(r\"[^都道府県市区町村]+[市|区|町|村]\", text)\n",
        "    if sikutchoson==[]:\n",
        "        sikutchoson=[text]\n",
        "\n",
        "    result = [t for t in unique_address_list if re.match(search_key, t)]\n",
        "    if len(result)==0:\n",
        "        return \"error\", \"\"\n",
        "    elif len(result)==1:\n",
        "        return \"ok\", result[0]\n",
        "    else:\n",
        "        result_judge = [sum([s in res for s in sikutchoson])==len(sikutchoson) for res in result]\n",
        "        result2 = np.array(result)[result_judge]\n",
        "        if len(result2)==1:\n",
        "            return \"ok\", result2[0]\n",
        "        else:\n",
        "            return \"not identify\", result2\n",
        "\n",
        "def check(text):\n",
        "    n=len(text)\n",
        "    for i in range(len(text)):\n",
        "        code, c = address_check(text[:(n-i)])\n",
        "        if code==\"error\":\n",
        "            continue\n",
        "        else:\n",
        "            return c"
      ],
      "execution_count": 0,
      "outputs": []
    },
    {
      "cell_type": "code",
      "metadata": {
        "id": "qc1efUP4PYRy",
        "colab_type": "code",
        "outputId": "890e52d9-f8b4-4909-d8be-751a3c385e39",
        "colab": {
          "base_uri": "https://localhost:8080/",
          "height": 71
        }
      },
      "source": [
        "print(check(\"中央区\"))"
      ],
      "execution_count": 16,
      "outputs": [
        {
          "output_type": "stream",
          "text": [
            "['北海道札幌市中央区' '北海道札幌市中央区旭ケ丘' '北海道札幌市中央区大通西１丁目' ... '熊本県熊本市中央区世安町'\n",
            " '熊本県熊本市中央区万町' '熊本県熊本市中央区練兵町']\n"
          ],
          "name": "stdout"
        }
      ]
    },
    {
      "cell_type": "code",
      "metadata": {
        "id": "F8HopkFKKqrI",
        "colab_type": "code",
        "outputId": "7c1b6e3f-770e-4ea7-90f6-14a29a739f77",
        "colab": {
          "base_uri": "https://localhost:8080/",
          "height": 34
        }
      },
      "source": [
        "print(check(\"京都市東出町99-99\"))"
      ],
      "execution_count": 19,
      "outputs": [
        {
          "output_type": "stream",
          "text": [
            "京都府京都市山科区勧修寺東出町\n"
          ],
          "name": "stdout"
        }
      ]
    }
  ]
}